{
 "cells": [
  {
   "cell_type": "markdown",
   "source": [
    "# Exploración de los datos\n"
   ],
   "metadata": {
    "collapsed": false
   }
  },
  {
   "cell_type": "code",
   "execution_count": 1,
   "metadata": {
    "collapsed": true
   },
   "outputs": [],
   "source": [
    "import pandas as pd\n"
   ]
  },
  {
   "cell_type": "code",
   "execution_count": 6,
   "outputs": [],
   "source": [
    "path = \"../data/clinical_outcome/\"\n",
    "file = \"paad_qcmg_uq_2016_clinical_data.tsv\"\n",
    "df = pd.read_csv(path+file,sep=\"\\t\", header= 0)"
   ],
   "metadata": {
    "collapsed": false,
    "pycharm": {
     "name": "#%%\n"
    }
   }
  },
  {
   "cell_type": "code",
   "execution_count": 5,
   "outputs": [
    {
     "data": {
      "text/plain": "            Study ID Patient ID Sample ID  Diagnosis Age  \\\n0  paad_qcmg_uq_2016      3.014     3.014           65.0   \n1  paad_qcmg_uq_2016      A10.7     A10.7           60.0   \n2  paad_qcmg_uq_2016       A2.1      A2.1           62.0   \n3  paad_qcmg_uq_2016      A32-1     A32-1           81.0   \n4  paad_qcmg_uq_2016      A38-5     A38-5           51.0   \n\n  Neoplasm Disease Stage American Joint Committee on Cancer Code  \\\n0                                            Unknown               \n1                                            Unknown               \n2                                            Unknown               \n3                                            Unknown               \n4                                            Unknown               \n\n         Cancer Type       Cancer Type Detailed                   Country  \\\n0  Pancreatic Cancer  Pancreatic Adenocarcinoma  United States of America   \n1  Pancreatic Cancer  Pancreatic Adenocarcinoma  United States of America   \n2  Pancreatic Cancer  Pancreatic Adenocarcinoma  United States of America   \n3  Pancreatic Cancer  Pancreatic Adenocarcinoma  United States of America   \n4  Pancreatic Cancer  Pancreatic Adenocarcinoma  United States of America   \n\n   Days to Last Followup Ethnicity Category  ... Location Mutation Count  \\\n0                    NaN                NaN  ...      NaN            NaN   \n1                    NaN                NaN  ...      NaN            NaN   \n2                    NaN                NaN  ...      NaN            NaN   \n3                    NaN                NaN  ...      NaN            NaN   \n4                    NaN                NaN  ...      NaN            NaN   \n\n   Oncotree Code Sample Class Number of Samples Per Patient  Sample Type  \\\n0           PAAD    Cell line                             1          NaN   \n1           PAAD    Cell line                             1          NaN   \n2           PAAD    Cell line                             1          NaN   \n3           PAAD    Cell line                             1          NaN   \n4           PAAD    Cell line                             1          NaN   \n\n      Sex Smoker   Status Tumor Grade  \n0    Male    NaN  Unknown         NaN  \n1    Male    NaN  Unknown         NaN  \n2    Male    NaN  Unknown         NaN  \n3  Female    NaN  Unknown         NaN  \n4    Male    NaN  Unknown         NaN  \n\n[5 rows x 21 columns]",
      "text/html": "<div>\n<style scoped>\n    .dataframe tbody tr th:only-of-type {\n        vertical-align: middle;\n    }\n\n    .dataframe tbody tr th {\n        vertical-align: top;\n    }\n\n    .dataframe thead th {\n        text-align: right;\n    }\n</style>\n<table border=\"1\" class=\"dataframe\">\n  <thead>\n    <tr style=\"text-align: right;\">\n      <th></th>\n      <th>Study ID</th>\n      <th>Patient ID</th>\n      <th>Sample ID</th>\n      <th>Diagnosis Age</th>\n      <th>Neoplasm Disease Stage American Joint Committee on Cancer Code</th>\n      <th>Cancer Type</th>\n      <th>Cancer Type Detailed</th>\n      <th>Country</th>\n      <th>Days to Last Followup</th>\n      <th>Ethnicity Category</th>\n      <th>...</th>\n      <th>Location</th>\n      <th>Mutation Count</th>\n      <th>Oncotree Code</th>\n      <th>Sample Class</th>\n      <th>Number of Samples Per Patient</th>\n      <th>Sample Type</th>\n      <th>Sex</th>\n      <th>Smoker</th>\n      <th>Status</th>\n      <th>Tumor Grade</th>\n    </tr>\n  </thead>\n  <tbody>\n    <tr>\n      <th>0</th>\n      <td>paad_qcmg_uq_2016</td>\n      <td>3.014</td>\n      <td>3.014</td>\n      <td>65.0</td>\n      <td>Unknown</td>\n      <td>Pancreatic Cancer</td>\n      <td>Pancreatic Adenocarcinoma</td>\n      <td>United States of America</td>\n      <td>NaN</td>\n      <td>NaN</td>\n      <td>...</td>\n      <td>NaN</td>\n      <td>NaN</td>\n      <td>PAAD</td>\n      <td>Cell line</td>\n      <td>1</td>\n      <td>NaN</td>\n      <td>Male</td>\n      <td>NaN</td>\n      <td>Unknown</td>\n      <td>NaN</td>\n    </tr>\n    <tr>\n      <th>1</th>\n      <td>paad_qcmg_uq_2016</td>\n      <td>A10.7</td>\n      <td>A10.7</td>\n      <td>60.0</td>\n      <td>Unknown</td>\n      <td>Pancreatic Cancer</td>\n      <td>Pancreatic Adenocarcinoma</td>\n      <td>United States of America</td>\n      <td>NaN</td>\n      <td>NaN</td>\n      <td>...</td>\n      <td>NaN</td>\n      <td>NaN</td>\n      <td>PAAD</td>\n      <td>Cell line</td>\n      <td>1</td>\n      <td>NaN</td>\n      <td>Male</td>\n      <td>NaN</td>\n      <td>Unknown</td>\n      <td>NaN</td>\n    </tr>\n    <tr>\n      <th>2</th>\n      <td>paad_qcmg_uq_2016</td>\n      <td>A2.1</td>\n      <td>A2.1</td>\n      <td>62.0</td>\n      <td>Unknown</td>\n      <td>Pancreatic Cancer</td>\n      <td>Pancreatic Adenocarcinoma</td>\n      <td>United States of America</td>\n      <td>NaN</td>\n      <td>NaN</td>\n      <td>...</td>\n      <td>NaN</td>\n      <td>NaN</td>\n      <td>PAAD</td>\n      <td>Cell line</td>\n      <td>1</td>\n      <td>NaN</td>\n      <td>Male</td>\n      <td>NaN</td>\n      <td>Unknown</td>\n      <td>NaN</td>\n    </tr>\n    <tr>\n      <th>3</th>\n      <td>paad_qcmg_uq_2016</td>\n      <td>A32-1</td>\n      <td>A32-1</td>\n      <td>81.0</td>\n      <td>Unknown</td>\n      <td>Pancreatic Cancer</td>\n      <td>Pancreatic Adenocarcinoma</td>\n      <td>United States of America</td>\n      <td>NaN</td>\n      <td>NaN</td>\n      <td>...</td>\n      <td>NaN</td>\n      <td>NaN</td>\n      <td>PAAD</td>\n      <td>Cell line</td>\n      <td>1</td>\n      <td>NaN</td>\n      <td>Female</td>\n      <td>NaN</td>\n      <td>Unknown</td>\n      <td>NaN</td>\n    </tr>\n    <tr>\n      <th>4</th>\n      <td>paad_qcmg_uq_2016</td>\n      <td>A38-5</td>\n      <td>A38-5</td>\n      <td>51.0</td>\n      <td>Unknown</td>\n      <td>Pancreatic Cancer</td>\n      <td>Pancreatic Adenocarcinoma</td>\n      <td>United States of America</td>\n      <td>NaN</td>\n      <td>NaN</td>\n      <td>...</td>\n      <td>NaN</td>\n      <td>NaN</td>\n      <td>PAAD</td>\n      <td>Cell line</td>\n      <td>1</td>\n      <td>NaN</td>\n      <td>Male</td>\n      <td>NaN</td>\n      <td>Unknown</td>\n      <td>NaN</td>\n    </tr>\n  </tbody>\n</table>\n<p>5 rows × 21 columns</p>\n</div>"
     },
     "execution_count": 5,
     "metadata": {},
     "output_type": "execute_result"
    }
   ],
   "source": [
    "df.head()\n"
   ],
   "metadata": {
    "collapsed": false,
    "pycharm": {
     "name": "#%%\n"
    }
   }
  },
  {
   "cell_type": "code",
   "execution_count": null,
   "outputs": [],
   "source": [
    "import plotly.express as px\n"
   ],
   "metadata": {
    "collapsed": false,
    "pycharm": {
     "name": "#%%\n"
    }
   }
  }
 ],
 "metadata": {
  "kernelspec": {
   "display_name": "Python 3",
   "language": "python",
   "name": "python3"
  },
  "language_info": {
   "codemirror_mode": {
    "name": "ipython",
    "version": 2
   },
   "file_extension": ".py",
   "mimetype": "text/x-python",
   "name": "python",
   "nbconvert_exporter": "python",
   "pygments_lexer": "ipython2",
   "version": "2.7.6"
  },
  "pycharm": {
   "stem_cell": {
    "cell_type": "raw",
    "source": [
     "\n",
     "\n"
    ],
    "metadata": {
     "collapsed": false
    }
   }
  }
 },
 "nbformat": 4,
 "nbformat_minor": 0
}